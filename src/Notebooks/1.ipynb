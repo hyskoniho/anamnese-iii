{
 "cells": [
  {
   "cell_type": "code",
   "execution_count": null,
   "id": "55456bc4",
   "metadata": {},
   "outputs": [],
   "source": [
    "import pandas as pd"
   ]
  },
  {
   "cell_type": "code",
   "execution_count": null,
   "id": "21e975ac",
   "metadata": {},
   "outputs": [],
   "source": [
    "df = pd.read_excel(\n",
    "    r\"data\\tbl\\dados_reais.xlsx\"\n",
    ")\n",
    "df"
   ]
  },
  {
   "cell_type": "code",
   "execution_count": null,
   "id": "5deb4476",
   "metadata": {},
   "outputs": [],
   "source": [
    "df = df.drop(index=range(0, len(df)))\n",
    "df.to_csv(\n",
    "    r\"data\\tbl\\headers.csv\",\n",
    "    sep=\";\",\n",
    "    index=False,\n",
    "    encoding=\"utf-8\",\n",
    "    )"
   ]
  }
 ],
 "metadata": {
  "kernelspec": {
   "display_name": ".venv",
   "language": "python",
   "name": "python3"
  },
  "language_info": {
   "codemirror_mode": {
    "name": "ipython",
    "version": 3
   },
   "file_extension": ".py",
   "mimetype": "text/x-python",
   "name": "python",
   "nbconvert_exporter": "python",
   "pygments_lexer": "ipython3",
   "version": "3.12.4"
  }
 },
 "nbformat": 4,
 "nbformat_minor": 5
}
